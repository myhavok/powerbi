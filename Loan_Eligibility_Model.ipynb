{
 "cells": [
  {
   "cell_type": "markdown",
   "metadata": {},
   "source": [
    "# Classification Agorithms"
   ]
  },
  {
   "cell_type": "markdown",
   "metadata": {
    "id": "Z_fGl8o4J2FR"
   },
   "source": [
    "## **Loan Eligibility Prediction Model**"
   ]
  },
  {
   "cell_type": "markdown",
   "metadata": {},
   "source": [
    "### Project Scope:\n",
    "\n",
    "Loans form an integral part of banking operations. However, not all loans are returned and hence it is important for a bank to closely moniter its loan applications. This case study is an analysis of the German Credit data. It contains details of 614 loan applicants with 13 attributes and the classification whether an applicant was granted loan or denied loan.\n",
    "\n",
    "**Your role:** Using the available dataset, train a classification model to predict whether an applicant should be given loan.\n",
    "\n",
    "**Goal:** Build a model to predict loan eligiblity with an average acuracy of more than 76%\n",
    "\n",
    "**Specifics:** \n",
    "\n",
    "* Machine Learning task: Classification model \n",
    "* Target variable: Loan_Status \n",
    "* Input variables: Refer to data dictionary below\n",
    "* Success Criteria: Accuracy of 76% and above\n"
   ]
  },
  {
   "cell_type": "markdown",
   "metadata": {},
   "source": [
    "## Data Dictionary:\n",
    "\n",
    "* **Loan_ID:** Applicant ID\n",
    "* **Gender:** Gender of the applicant Male/Female\n",
    "* **Married:** Marital status of the applicant\n",
    "* **Dependents:** Number of dependants the applicant has\n",
    "* **Education:** Highest level of education\n",
    "* **Self_Employed:** Whether self-employed Yes/No\n",
    "* **ApplicantIncome:** Income of the applicant\n",
    "* **CoapplicantIncome:** Income of the co-applicant\n",
    "* **LoanAmount:** Loan amount requested\n",
    "* **Loan_Amount_Term:** Term of the loan\n",
    "* **Credit_History:** Whether applicant has a credit history\n",
    "* **Property_Area:** Current property location\n",
    "* **Loan_Approved:** Loan approved yes/no"
   ]
  },
  {
   "cell_type": "markdown",
   "metadata": {
    "id": "RYOHc68YujYE"
   },
   "source": [
    "## **Data Analysis and Data Prep**"
   ]
  },
  {
   "cell_type": "markdown",
   "metadata": {
    "id": "lc_kizYoJ2FS"
   },
   "source": [
    "### Loading all the necessary packages"
   ]
  },
  {
   "cell_type": "code",
   "execution_count": 3,
   "metadata": {
    "id": "AkAmUuumJ2FU"
   },
   "outputs": [],
   "source": [
    "import pandas as pd\n",
    "import numpy as np\n",
    "import seaborn as sns\n",
    "import matplotlib.pyplot as plt\n",
    "%matplotlib inline\n",
    "import warnings\n",
    "warnings.filterwarnings(\"ignore\")"
   ]
  },
  {
   "cell_type": "markdown",
   "metadata": {
    "id": "ZsJCxVwOJ2FU"
   },
   "source": [
    "### Reading the data"
   ]
  },
  {
   "cell_type": "code",
   "execution_count": 4,
   "metadata": {
    "colab": {
     "base_uri": "https://localhost:8080/",
     "height": 0
    },
    "id": "LPxkm7y6J2FW",
    "outputId": "de99afc2-de77-4a01-99da-b48d266d5a19"
   },
   "outputs": [
    {
     "data": {
      "text/html": [
       "<div>\n",
       "<style scoped>\n",
       "    .dataframe tbody tr th:only-of-type {\n",
       "        vertical-align: middle;\n",
       "    }\n",
       "\n",
       "    .dataframe tbody tr th {\n",
       "        vertical-align: top;\n",
       "    }\n",
       "\n",
       "    .dataframe thead th {\n",
       "        text-align: right;\n",
       "    }\n",
       "</style>\n",
       "<table border=\"1\" class=\"dataframe\">\n",
       "  <thead>\n",
       "    <tr style=\"text-align: right;\">\n",
       "      <th></th>\n",
       "      <th>Loan_ID</th>\n",
       "      <th>Gender</th>\n",
       "      <th>Married</th>\n",
       "      <th>Dependents</th>\n",
       "      <th>Education</th>\n",
       "      <th>Self_Employed</th>\n",
       "      <th>ApplicantIncome</th>\n",
       "      <th>CoapplicantIncome</th>\n",
       "      <th>LoanAmount</th>\n",
       "      <th>Loan_Amount_Term</th>\n",
       "      <th>Credit_History</th>\n",
       "      <th>Property_Area</th>\n",
       "      <th>Loan_Approved</th>\n",
       "    </tr>\n",
       "  </thead>\n",
       "  <tbody>\n",
       "    <tr>\n",
       "      <th>0</th>\n",
       "      <td>LP001002</td>\n",
       "      <td>Male</td>\n",
       "      <td>No</td>\n",
       "      <td>0</td>\n",
       "      <td>Graduate</td>\n",
       "      <td>No</td>\n",
       "      <td>5849</td>\n",
       "      <td>0.0</td>\n",
       "      <td>128</td>\n",
       "      <td>360</td>\n",
       "      <td>1</td>\n",
       "      <td>Urban</td>\n",
       "      <td>1</td>\n",
       "    </tr>\n",
       "    <tr>\n",
       "      <th>1</th>\n",
       "      <td>LP001003</td>\n",
       "      <td>Male</td>\n",
       "      <td>Yes</td>\n",
       "      <td>1</td>\n",
       "      <td>Graduate</td>\n",
       "      <td>No</td>\n",
       "      <td>4583</td>\n",
       "      <td>1508.0</td>\n",
       "      <td>128</td>\n",
       "      <td>360</td>\n",
       "      <td>1</td>\n",
       "      <td>Rural</td>\n",
       "      <td>0</td>\n",
       "    </tr>\n",
       "    <tr>\n",
       "      <th>2</th>\n",
       "      <td>LP001005</td>\n",
       "      <td>Male</td>\n",
       "      <td>Yes</td>\n",
       "      <td>0</td>\n",
       "      <td>Graduate</td>\n",
       "      <td>Yes</td>\n",
       "      <td>3000</td>\n",
       "      <td>0.0</td>\n",
       "      <td>66</td>\n",
       "      <td>360</td>\n",
       "      <td>1</td>\n",
       "      <td>Urban</td>\n",
       "      <td>1</td>\n",
       "    </tr>\n",
       "    <tr>\n",
       "      <th>3</th>\n",
       "      <td>LP001006</td>\n",
       "      <td>Male</td>\n",
       "      <td>Yes</td>\n",
       "      <td>0</td>\n",
       "      <td>Not Graduate</td>\n",
       "      <td>No</td>\n",
       "      <td>2583</td>\n",
       "      <td>2358.0</td>\n",
       "      <td>120</td>\n",
       "      <td>360</td>\n",
       "      <td>1</td>\n",
       "      <td>Urban</td>\n",
       "      <td>1</td>\n",
       "    </tr>\n",
       "    <tr>\n",
       "      <th>4</th>\n",
       "      <td>LP001008</td>\n",
       "      <td>Male</td>\n",
       "      <td>No</td>\n",
       "      <td>0</td>\n",
       "      <td>Graduate</td>\n",
       "      <td>No</td>\n",
       "      <td>6000</td>\n",
       "      <td>0.0</td>\n",
       "      <td>141</td>\n",
       "      <td>360</td>\n",
       "      <td>1</td>\n",
       "      <td>Urban</td>\n",
       "      <td>1</td>\n",
       "    </tr>\n",
       "  </tbody>\n",
       "</table>\n",
       "</div>"
      ],
      "text/plain": [
       "    Loan_ID Gender Married Dependents     Education Self_Employed  \\\n",
       "0  LP001002   Male      No          0      Graduate            No   \n",
       "1  LP001003   Male     Yes          1      Graduate            No   \n",
       "2  LP001005   Male     Yes          0      Graduate           Yes   \n",
       "3  LP001006   Male     Yes          0  Not Graduate            No   \n",
       "4  LP001008   Male      No          0      Graduate            No   \n",
       "\n",
       "   ApplicantIncome  CoapplicantIncome  LoanAmount  Loan_Amount_Term  \\\n",
       "0             5849                0.0         128               360   \n",
       "1             4583             1508.0         128               360   \n",
       "2             3000                0.0          66               360   \n",
       "3             2583             2358.0         120               360   \n",
       "4             6000                0.0         141               360   \n",
       "\n",
       "   Credit_History Property_Area  Loan_Approved  \n",
       "0               1         Urban              1  \n",
       "1               1         Rural              0  \n",
       "2               1         Urban              1  \n",
       "3               1         Urban              1  \n",
       "4               1         Urban              1  "
      ]
     },
     "execution_count": 4,
     "metadata": {},
     "output_type": "execute_result"
    }
   ],
   "source": [
    "# Import the data from 'credit.csv'\n",
    "df = pd.read_csv('credit.csv')\n",
    "df.head(5)"
   ]
  },
  {
   "cell_type": "code",
   "execution_count": 7,
   "metadata": {},
   "outputs": [
    {
     "name": "stdout",
     "output_type": "stream",
     "text": [
      "The dataset has 614 rows and 13 columns.\n"
     ]
    }
   ],
   "source": [
    "# check the number of rows and observations\n",
    "num_rows, num_columns = df.shape\n",
    "print(f\"The dataset has {num_rows} rows and {num_columns} columns.\")"
   ]
  },
  {
   "cell_type": "code",
   "execution_count": 14,
   "metadata": {
    "colab": {
     "base_uri": "https://localhost:8080/",
     "height": 0
    },
    "id": "MwgS6DwLJ2FX",
    "outputId": "73767cb5-aed4-4aac-de91-7689c18889ac"
   },
   "outputs": [
    {
     "name": "stdout",
     "output_type": "stream",
     "text": [
      "Loan_Approved\n",
      "1    422\n",
      "0    192\n",
      "Name: count, dtype: int64\n"
     ]
    },
    {
     "data": {
      "image/png": "[encoded data removed]",
      "text/plain": [
       "<Figure size 800x600 with 1 Axes>"
      ]
     },
     "metadata": {},
     "output_type": "display_data"
    }
   ],
   "source": [
    "# How many application were approved and how many were denied? Plot a bar plot\n",
    "Loan_Approved = df['Loan_Approved'].value_counts()\n",
    "\n",
    "print(Loan_Approved)\n",
    "\n",
    "plt.figure(figsize=(8, 6))\n",
    "sns.countplot(x= 'Loan_Approved' ,data=df, palette='viridis')\n",
    "plt.title('Credit Approval Status')\n",
    "plt.xlabel('Loan_Approved')\n",
    "plt.ylabel('Count')\n",
    " \n",
    "plt.show()"
   ]
  },
  {
   "cell_type": "markdown",
   "metadata": {},
   "source": [
    "    "
   ]
  },
  {
   "cell_type": "markdown",
   "metadata": {
    "id": "Iid-Mm7SvKLH"
   },
   "source": [
    "### Data Prep"
   ]
  },
  {
   "cell_type": "code",
   "execution_count": 15,
   "metadata": {},
   "outputs": [],
   "source": [
    "# drop 'Loan_ID' variable from the data. We won't need it.\n",
    "df_dropped = df.drop('Loan_ID', axis=1)\n"
   ]
  },
  {
   "cell_type": "code",
   "execution_count": 20,
   "metadata": {},
   "outputs": [],
   "source": [
    "# Create dummy variables for all 'object' type variables except 'Loan_Status'\n",
    "object_columns = df.select_dtypes(include=['object']).columns.tolist()\n",
    "object_columns = [col for col in object_columns if col != 'Loan_Approved']    \n",
    "                                  \n",
    "df = pd.get_dummies(df, columns=object_columns, drop_first=True)                                  "
   ]
  },
  {
   "cell_type": "code",
   "execution_count": 18,
   "metadata": {
    "id": "eJHnli8vJ2Fk"
   },
   "outputs": [],
   "source": [
    "# saving this procewssed dataset\n",
    "df.to_csv('Processed_Credit_Dataset.csv', index=None)"
   ]
  },
  {
   "cell_type": "markdown",
   "metadata": {
    "id": "kO38zz_lvQlb"
   },
   "source": [
    "### Data Partition"
   ]
  },
  {
   "cell_type": "code",
   "execution_count": 25,
   "metadata": {
    "id": "Pq-bHTPlJ2Fn"
   },
   "outputs": [
    {
     "name": "stdout",
     "output_type": "stream",
     "text": [
      "Input Features (x):\n",
      "   ApplicantIncome  CoapplicantIncome  LoanAmount  Loan_Amount_Term  \\\n",
      "0             5849                0.0         128               360   \n",
      "1             4583             1508.0         128               360   \n",
      "2             3000                0.0          66               360   \n",
      "3             2583             2358.0         120               360   \n",
      "4             6000                0.0         141               360   \n",
      "\n",
      "   Credit_History  Loan_ID_LP001003  Loan_ID_LP001005  Loan_ID_LP001006  \\\n",
      "0               1             False             False             False   \n",
      "1               1              True             False             False   \n",
      "2               1             False              True             False   \n",
      "3               1             False             False              True   \n",
      "4               1             False             False             False   \n",
      "\n",
      "   Loan_ID_LP001008  Loan_ID_LP001011  ...  Loan_ID_LP002990  Gender_Male  \\\n",
      "0             False             False  ...             False         True   \n",
      "1             False             False  ...             False         True   \n",
      "2             False             False  ...             False         True   \n",
      "3             False             False  ...             False         True   \n",
      "4              True             False  ...             False         True   \n",
      "\n",
      "   Married_Yes  Dependents_1  Dependents_2  Dependents_3+  \\\n",
      "0        False         False         False          False   \n",
      "1         True          True         False          False   \n",
      "2         True         False         False          False   \n",
      "3         True         False         False          False   \n",
      "4        False         False         False          False   \n",
      "\n",
      "   Education_Not Graduate  Self_Employed_Yes  Property_Area_Semiurban  \\\n",
      "0                   False              False                    False   \n",
      "1                   False              False                    False   \n",
      "2                   False               True                    False   \n",
      "3                    True              False                    False   \n",
      "4                   False              False                    False   \n",
      "\n",
      "   Property_Area_Urban  \n",
      "0                 True  \n",
      "1                False  \n",
      "2                 True  \n",
      "3                 True  \n",
      "4                 True  \n",
      "\n",
      "[5 rows x 627 columns]\n"
     ]
    }
   ],
   "source": [
    "# Seperate the input features and target variable\n",
    "target_variable = 'Loan_Approved'\n",
    "\n",
    "X = df.drop(target_variable, axis=1)  \n",
    "y = df[target_variable]  \n",
    "\n",
    "print(\"Input Features (x):\")\n",
    "print(X.head())"
   ]
  },
  {
   "cell_type": "markdown",
   "metadata": {
    "id": "B2kDu-VHJ2Fn"
   },
   "source": [
    "    "
   ]
  },
  {
   "cell_type": "code",
   "execution_count": 26,
   "metadata": {
    "id": "m4VrDseVJ2Fn"
   },
   "outputs": [
    {
     "name": "stdout",
     "output_type": "stream",
     "text": [
      "X_train shape: (491, 627)\n",
      "X_test shape: (123, 627)\n",
      "y_train shape: (491,)\n",
      "y_test shape: (123,)\n"
     ]
    }
   ],
   "source": [
    "# splitting the data in training and testing set\n",
    "from sklearn.model_selection import train_test_split\n",
    "\n",
    "X_train, X_test, y_train, y_test = train_test_split(X, y, test_size=0.2, random_state=42)\n",
    "\n",
    "print(\"X_train shape:\", X_train.shape)\n",
    "print(\"X_test shape:\", X_test.shape)\n",
    "print(\"y_train shape:\", y_train.shape)\n",
    "print(\"y_test shape:\", y_test.shape)\n"
   ]
  },
  {
   "cell_type": "code",
   "execution_count": 28,
   "metadata": {
    "colab": {
     "base_uri": "https://localhost:8080/",
     "height": 0
    },
    "id": "SzRQ8H5EJ2Fo",
    "outputId": "e64adf59-88f3-4294-fc9e-339097ff6618"
   },
   "outputs": [
    {
     "name": "stdout",
     "output_type": "stream",
     "text": [
      "Sample rows from the training set:\n",
      "     ApplicantIncome  CoapplicantIncome  LoanAmount  Loan_Amount_Term  \\\n",
      "83              6000             2250.0         265               360   \n",
      "90              2958             2900.0         131               360   \n",
      "227             6250             1695.0         210               360   \n",
      "482             2083             3150.0         128               360   \n",
      "464             4166                0.0          98               360   \n",
      "\n",
      "     Credit_History  Loan_ID_LP001003  Loan_ID_LP001005  Loan_ID_LP001006  \\\n",
      "83                1             False             False             False   \n",
      "90                1             False             False             False   \n",
      "227               1             False             False             False   \n",
      "482               1             False             False             False   \n",
      "464               0             False             False             False   \n",
      "\n",
      "     Loan_ID_LP001008  Loan_ID_LP001011  ...  Loan_ID_LP002990  Gender_Male  \\\n",
      "83              False             False  ...             False         True   \n",
      "90              False             False  ...             False         True   \n",
      "227             False             False  ...             False         True   \n",
      "482             False             False  ...             False         True   \n",
      "464             False             False  ...             False         True   \n",
      "\n",
      "     Married_Yes  Dependents_1  Dependents_2  Dependents_3+  \\\n",
      "83          True         False         False          False   \n",
      "90          True         False         False          False   \n",
      "227         True         False          True          False   \n",
      "482         True         False         False          False   \n",
      "464        False         False         False          False   \n",
      "\n",
      "     Education_Not Graduate  Self_Employed_Yes  Property_Area_Semiurban  \\\n",
      "83                    False              False                     True   \n",
      "90                    False              False                     True   \n",
      "227                   False              False                     True   \n",
      "482                   False              False                     True   \n",
      "464                   False              False                     True   \n",
      "\n",
      "     Property_Area_Urban  \n",
      "83                 False  \n",
      "90                 False  \n",
      "227                False  \n",
      "482                False  \n",
      "464                False  \n",
      "\n",
      "[5 rows x 627 columns]\n",
      "83     0\n",
      "90     1\n",
      "227    1\n",
      "482    1\n",
      "464    0\n",
      "Name: Loan_Approved, dtype: int64\n",
      "Sample rows from the testing set:\n",
      "     ApplicantIncome  CoapplicantIncome  LoanAmount  Loan_Amount_Term  \\\n",
      "350             9083                0.0         228               360   \n",
      "377             4310                0.0         130               360   \n",
      "163             4167             1447.0         158               360   \n",
      "609             2900                0.0          71               360   \n",
      "132             2718                0.0          70               360   \n",
      "\n",
      "     Credit_History  Loan_ID_LP001003  Loan_ID_LP001005  Loan_ID_LP001006  \\\n",
      "350               1             False             False             False   \n",
      "377               1             False             False             False   \n",
      "163               1             False             False             False   \n",
      "609               1             False             False             False   \n",
      "132               1             False             False             False   \n",
      "\n",
      "     Loan_ID_LP001008  Loan_ID_LP001011  ...  Loan_ID_LP002990  Gender_Male  \\\n",
      "350             False             False  ...             False         True   \n",
      "377             False             False  ...             False         True   \n",
      "163             False             False  ...             False         True   \n",
      "609             False             False  ...             False        False   \n",
      "132             False             False  ...             False         True   \n",
      "\n",
      "     Married_Yes  Dependents_1  Dependents_2  Dependents_3+  \\\n",
      "350         True         False         False          False   \n",
      "377         True         False         False          False   \n",
      "163         True         False          True          False   \n",
      "609        False         False         False          False   \n",
      "132        False         False         False          False   \n",
      "\n",
      "     Education_Not Graduate  Self_Employed_Yes  Property_Area_Semiurban  \\\n",
      "350                   False              False                     True   \n",
      "377                   False              False                     True   \n",
      "163                   False              False                    False   \n",
      "609                   False              False                    False   \n",
      "132                   False              False                     True   \n",
      "\n",
      "     Property_Area_Urban  \n",
      "350                False  \n",
      "377                False  \n",
      "163                False  \n",
      "609                False  \n",
      "132                False  \n",
      "\n",
      "[5 rows x 627 columns]\n",
      "350    1\n",
      "377    1\n",
      "163    1\n",
      "609    1\n",
      "132    1\n",
      "Name: Loan_Approved, dtype: int64\n"
     ]
    }
   ],
   "source": [
    "# check the split if interested\n",
    "print(\"Sample rows from the training set:\")\n",
    "print(X_train.head())\n",
    "print(y_train.head())\n",
    "\n",
    "print(\"Sample rows from the testing set:\")\n",
    "print(X_test.head())\n",
    "print(y_test.head())"
   ]
  },
  {
   "cell_type": "markdown",
   "metadata": {},
   "source": [
    "    "
   ]
  },
  {
   "cell_type": "markdown",
   "metadata": {},
   "source": [
    "    "
   ]
  },
  {
   "cell_type": "markdown",
   "metadata": {
    "id": "UMjkOp4WN4A6"
   },
   "source": [
    "# **Models**"
   ]
  },
  {
   "cell_type": "markdown",
   "metadata": {
    "id": "NKdgM9xqxqb-"
   },
   "source": [
    "## <font color='chocolate'>**1. Logistic Regression**</font>"
   ]
  },
  {
   "cell_type": "code",
   "execution_count": 38,
   "metadata": {
    "colab": {
     "base_uri": "https://localhost:8080/"
    },
    "id": "EGT-Zek_yNEk",
    "outputId": "be854121-e3a9-40e9-cf6c-4610a15b3e3c"
   },
   "outputs": [],
   "source": [
    "# Import Logistic Regression Model\n",
    "from sklearn.linear_model import LogisticRegression"
   ]
  },
  {
   "cell_type": "code",
   "execution_count": 39,
   "metadata": {},
   "outputs": [
    {
     "data": {
      "text/html": [
       "<style>#sk-container-id-1 {color: black;}#sk-container-id-1 pre{padding: 0;}#sk-container-id-1 div.sk-toggleable {background-color: white;}#sk-container-id-1 label.sk-toggleable__label {cursor: pointer;display: block;width: 100%;margin-bottom: 0;padding: 0.3em;box-sizing: border-box;text-align: center;}#sk-container-id-1 label.sk-toggleable__label-arrow:before {content: \"▸\";float: left;margin-right: 0.25em;color: #696969;}#sk-container-id-1 label.sk-toggleable__label-arrow:hover:before {color: black;}#sk-container-id-1 div.sk-estimator:hover label.sk-toggleable__label-arrow:before {color: black;}#sk-container-id-1 div.sk-toggleable__content {max-height: 0;max-width: 0;overflow: hidden;text-align: left;background-color: #f0f8ff;}#sk-container-id-1 div.sk-toggleable__content pre {margin: 0.2em;color: black;border-radius: 0.25em;background-color: #f0f8ff;}#sk-container-id-1 input.sk-toggleable__control:checked~div.sk-toggleable__content {max-height: 200px;max-width: 100%;overflow: auto;}#sk-container-id-1 input.sk-toggleable__control:checked~label.sk-toggleable__label-arrow:before {content: \"▾\";}#sk-container-id-1 div.sk-estimator input.sk-toggleable__control:checked~label.sk-toggleable__label {background-color: #d4ebff;}#sk-container-id-1 div.sk-label input.sk-toggleable__control:checked~label.sk-toggleable__label {background-color: #d4ebff;}#sk-container-id-1 input.sk-hidden--visually {border: 0;clip: rect(1px 1px 1px 1px);clip: rect(1px, 1px, 1px, 1px);height: 1px;margin: -1px;overflow: hidden;padding: 0;position: absolute;width: 1px;}#sk-container-id-1 div.sk-estimator {font-family: monospace;background-color: #f0f8ff;border: 1px dotted black;border-radius: 0.25em;box-sizing: border-box;margin-bottom: 0.5em;}#sk-container-id-1 div.sk-estimator:hover {background-color: #d4ebff;}#sk-container-id-1 div.sk-parallel-item::after {content: \"\";width: 100%;border-bottom: 1px solid gray;flex-grow: 1;}#sk-container-id-1 div.sk-label:hover label.sk-toggleable__label {background-color: #d4ebff;}#sk-container-id-1 div.sk-serial::before {content: \"\";position: absolute;border-left: 1px solid gray;box-sizing: border-box;top: 0;bottom: 0;left: 50%;z-index: 0;}#sk-container-id-1 div.sk-serial {display: flex;flex-direction: column;align-items: center;background-color: white;padding-right: 0.2em;padding-left: 0.2em;position: relative;}#sk-container-id-1 div.sk-item {position: relative;z-index: 1;}#sk-container-id-1 div.sk-parallel {display: flex;align-items: stretch;justify-content: center;background-color: white;position: relative;}#sk-container-id-1 div.sk-item::before, #sk-container-id-1 div.sk-parallel-item::before {content: \"\";position: absolute;border-left: 1px solid gray;box-sizing: border-box;top: 0;bottom: 0;left: 50%;z-index: -1;}#sk-container-id-1 div.sk-parallel-item {display: flex;flex-direction: column;z-index: 1;position: relative;background-color: white;}#sk-container-id-1 div.sk-parallel-item:first-child::after {align-self: flex-end;width: 50%;}#sk-container-id-1 div.sk-parallel-item:last-child::after {align-self: flex-start;width: 50%;}#sk-container-id-1 div.sk-parallel-item:only-child::after {width: 0;}#sk-container-id-1 div.sk-dashed-wrapped {border: 1px dashed gray;margin: 0 0.4em 0.5em 0.4em;box-sizing: border-box;padding-bottom: 0.4em;background-color: white;}#sk-container-id-1 div.sk-label label {font-family: monospace;font-weight: bold;display: inline-block;line-height: 1.2em;}#sk-container-id-1 div.sk-label-container {text-align: center;}#sk-container-id-1 div.sk-container {/* jupyter's `normalize.less` sets `[hidden] { display: none; }` but bootstrap.min.css set `[hidden] { display: none !important; }` so we also need the `!important` here to be able to override the default hidden behavior on the sphinx rendered scikit-learn.org. See: https://github.com/scikit-learn/scikit-learn/issues/21755 */display: inline-block !important;position: relative;}#sk-container-id-1 div.sk-text-repr-fallback {display: none;}</style><div id=\"sk-container-id-1\" class=\"sk-top-container\"><div class=\"sk-text-repr-fallback\"><pre>LogisticRegression(random_state=42)</pre><b>In a Jupyter environment, please rerun this cell to show the HTML representation or trust the notebook. <br />On GitHub, the HTML representation is unable to render, please try loading this page with nbviewer.org.</b></div><div class=\"sk-container\" hidden><div class=\"sk-item\"><div class=\"sk-estimator sk-toggleable\"><input class=\"sk-toggleable__control sk-hidden--visually\" id=\"sk-estimator-id-1\" type=\"checkbox\" checked><label for=\"sk-estimator-id-1\" class=\"sk-toggleable__label sk-toggleable__label-arrow\">LogisticRegression</label><div class=\"sk-toggleable__content\"><pre>LogisticRegression(random_state=42)</pre></div></div></div></div></div>"
      ],
      "text/plain": [
       "LogisticRegression(random_state=42)"
      ]
     },
     "execution_count": 39,
     "metadata": {},
     "output_type": "execute_result"
    }
   ],
   "source": [
    "# Fit the model on the data\n",
    "logreg_model = LogisticRegression(random_state=42)\n",
    "logreg_model.fit(X_train, y_train)"
   ]
  },
  {
   "cell_type": "code",
   "execution_count": 43,
   "metadata": {
    "colab": {
     "base_uri": "https://localhost:8080/"
    },
    "id": "SPohSDFZyXAh",
    "outputId": "a9b06598-f7e2-4682-dea8-61ac22c8661a"
   },
   "outputs": [
    {
     "name": "stdout",
     "output_type": "stream",
     "text": [
      "Testing Accuracy: 0.7886\n"
     ]
    }
   ],
   "source": [
    "# From sklearn.metrics import accuracy_score and confusion_matrix\n",
    "from sklearn.metrics import accuracy_score, confusion_matrix\n",
    "\n",
    "# Predict the loan eligibility on testing set and calculate its accuracy.\n",
    "y_test_pred =logreg_model.predict(X_test)\n",
    "test_accuracy = accuracy_score(y_test, y_test_pred)\n",
    "print(f\"Testing Accuracy: {test_accuracy:.4f}\")"
   ]
  },
  {
   "cell_type": "code",
   "execution_count": 44,
   "metadata": {},
   "outputs": [
    {
     "name": "stdout",
     "output_type": "stream",
     "text": [
      "\n",
      "Confusion Matrix:\n",
      "[[18 25]\n",
      " [ 1 79]]\n"
     ]
    }
   ],
   "source": [
    "# Print the confusion matrix\n",
    "conf_matrix = confusion_matrix(y_test, y_test_pred)\n",
    "print(\"\\nConfusion Matrix:\")\n",
    "print (conf_matrix)"
   ]
  },
  {
   "cell_type": "code",
   "execution_count": 45,
   "metadata": {},
   "outputs": [
    {
     "name": "stdout",
     "output_type": "stream",
     "text": [
      "Predicted Probabilities\n",
      "[[0.12270371 0.87729629]\n",
      " [0.10181564 0.89818436]\n",
      " [0.17249656 0.82750344]\n",
      " [0.18850197 0.81149803]\n",
      " [0.12308776 0.87691224]\n",
      " [0.30681174 0.69318826]\n",
      " [0.07746872 0.92253128]\n",
      " [0.1578637  0.8421363 ]\n",
      " [0.3149443  0.6850557 ]\n",
      " [0.29179961 0.70820039]\n",
      " [0.66196228 0.33803772]\n",
      " [0.22070616 0.77929384]\n",
      " [0.23311707 0.76688293]\n",
      " [0.26364896 0.73635104]\n",
      " [0.15499935 0.84500065]\n",
      " [0.16379693 0.83620307]\n",
      " [0.21678737 0.78321263]\n",
      " [0.17234048 0.82765952]\n",
      " [0.17915923 0.82084077]\n",
      " [0.04396069 0.95603931]\n",
      " [0.19383711 0.80616289]\n",
      " [0.11576791 0.88423209]\n",
      " [0.1694295  0.8305705 ]\n",
      " [0.18288782 0.81711218]\n",
      " [0.2768928  0.7231072 ]\n",
      " [0.32401326 0.67598674]\n",
      " [0.45833049 0.54166951]\n",
      " [0.1352876  0.8647124 ]\n",
      " [0.0979784  0.9020216 ]\n",
      " [0.07600852 0.92399148]\n",
      " [0.13843553 0.86156447]\n",
      " [0.09810405 0.90189595]\n",
      " [0.17731702 0.82268298]\n",
      " [0.26520138 0.73479862]\n",
      " [0.26301932 0.73698068]\n",
      " [0.92840341 0.07159659]\n",
      " [0.22355217 0.77644783]\n",
      " [0.17158203 0.82841797]\n",
      " [0.07911175 0.92088825]\n",
      " [0.13715096 0.86284904]\n",
      " [0.2450096  0.7549904 ]\n",
      " [0.44691299 0.55308701]\n",
      " [0.29273605 0.70726395]\n",
      " [0.20554902 0.79445098]\n",
      " [0.24190341 0.75809659]\n",
      " [0.13261718 0.86738282]\n",
      " [0.35289743 0.64710257]\n",
      " [0.86092684 0.13907316]\n",
      " [0.87411127 0.12588873]\n",
      " [0.74880152 0.25119848]\n",
      " [0.35523453 0.64476547]\n",
      " [0.13002341 0.86997659]\n",
      " [0.91966149 0.08033851]\n",
      " [0.30531688 0.69468312]\n",
      " [0.227968   0.772032  ]\n",
      " [0.23860148 0.76139852]\n",
      " [0.31595783 0.68404217]\n",
      " [0.31223943 0.68776057]\n",
      " [0.92213456 0.07786544]\n",
      " [0.09081877 0.90918123]\n",
      " [0.77550482 0.22449518]\n",
      " [0.19337559 0.80662441]\n",
      " [0.81169499 0.18830501]\n",
      " [0.24509549 0.75490451]\n",
      " [0.15344541 0.84655459]\n",
      " [0.20879078 0.79120922]\n",
      " [0.09415848 0.90584152]\n",
      " [0.17153212 0.82846788]\n",
      " [0.16254416 0.83745584]\n",
      " [0.30578865 0.69421135]\n",
      " [0.91105019 0.08894981]\n",
      " [0.18299597 0.81700403]\n",
      " [0.15550176 0.84449824]\n",
      " [0.18631132 0.81368868]\n",
      " [0.73283322 0.26716678]\n",
      " [0.15057933 0.84942067]\n",
      " [0.22514837 0.77485163]\n",
      " [0.91181004 0.08818996]\n",
      " [0.84845532 0.15154468]\n",
      " [0.09929636 0.90070364]\n",
      " [0.20375284 0.79624716]\n",
      " [0.04737556 0.95262444]\n",
      " [0.09705664 0.90294336]\n",
      " [0.16464286 0.83535714]\n",
      " [0.20116304 0.79883696]\n",
      " [0.11825012 0.88174988]\n",
      " [0.32352831 0.67647169]\n",
      " [0.65625763 0.34374237]\n",
      " [0.29523452 0.70476548]\n",
      " [0.21009577 0.78990423]\n",
      " [0.1798717  0.8201283 ]\n",
      " [0.89110482 0.10889518]\n",
      " [0.87990576 0.12009424]\n",
      " [0.17564994 0.82435006]\n",
      " [0.1236308  0.8763692 ]\n",
      " [0.15770235 0.84229765]\n",
      " [0.17616986 0.82383014]\n",
      " [0.1412252  0.8587748 ]\n",
      " [0.28573241 0.71426759]\n",
      " [0.26996891 0.73003109]\n",
      " [0.10306399 0.89693601]\n",
      " [0.17272399 0.82727601]\n",
      " [0.3672311  0.6327689 ]\n",
      " [0.24379463 0.75620537]\n",
      " [0.42441484 0.57558516]\n",
      " [0.8972232  0.1027768 ]\n",
      " [0.2327135  0.7672865 ]\n",
      " [0.81418302 0.18581698]\n",
      " [0.23304578 0.76695422]\n",
      " [0.17842577 0.82157423]\n",
      " [0.30085326 0.69914674]\n",
      " [0.8806746  0.1193254 ]\n",
      " [0.20938275 0.79061725]\n",
      " [0.32407236 0.67592764]\n",
      " [0.16946534 0.83053466]\n",
      " [0.39087953 0.60912047]\n",
      " [0.21846384 0.78153616]\n",
      " [0.23015929 0.76984071]\n",
      " [0.08368197 0.91631803]\n",
      " [0.18396544 0.81603456]\n",
      " [0.2655367  0.7344633 ]\n",
      " [0.15548944 0.84451056]\n",
      " [0.22601459 0.77398541]]\n"
     ]
    }
   ],
   "source": [
    "# check how probabilities are assigned\n",
    "y_test_probabilities = logreg_model.predict_proba(X_test)\n",
    "\n",
    "print(\"Predicted Probabilities\")\n",
    "print(y_test_probabilities)"
   ]
  },
  {
   "cell_type": "code",
   "execution_count": 15,
   "metadata": {},
   "outputs": [],
   "source": [
    "# to change the default threshold and to make it 70% and above\n",
    "#(pypred[:, 1] >= 0.7).astype(int)"
   ]
  },
  {
   "cell_type": "markdown",
   "metadata": {},
   "source": [
    "    "
   ]
  },
  {
   "cell_type": "markdown",
   "metadata": {
    "id": "WU_fkGPkJ2Fo"
   },
   "source": [
    "## <font color='chocolate'>**2. Random Forest**"
   ]
  },
  {
   "cell_type": "code",
   "execution_count": null,
   "metadata": {},
   "outputs": [],
   "source": [
    "from sklearn.ensemble "
   ]
  },
  {
   "cell_type": "code",
   "execution_count": 53,
   "metadata": {
    "id": "KeZaDpheJ2Fp"
   },
   "outputs": [],
   "source": [
    "# Import RandomForestClassifier \n",
    "from sklearn.ensemble import RandomForestClassifier"
   ]
  },
  {
   "cell_type": "code",
   "execution_count": 50,
   "metadata": {
    "colab": {
     "base_uri": "https://localhost:8080/"
    },
    "id": "IH7Qr18iJ2Fp",
    "outputId": "be14b25d-1306-4f02-a210-5a2840c2d366"
   },
   "outputs": [],
   "source": [
    "# Let's list the tunable hyperparameters for Random Forest algorithm"
   ]
  },
  {
   "cell_type": "markdown",
   "metadata": {
    "id": "Qynt51fiJ2Fp"
   },
   "source": [
    "For random forests,\n",
    "\n",
    "* The first hyperparameter to tune is n_estimators. We will try 100 and 200.\n",
    "\n",
    "* The second one is max_features. Let's try - 'auto', 'sqrt', and 0.33.\n",
    "\n",
    "* The third one is min_samples_leaf. Let's try - 1, 3, 5, 10"
   ]
  },
  {
   "cell_type": "code",
   "execution_count": 54,
   "metadata": {},
   "outputs": [
    {
     "ename": "NameError",
     "evalue": "name 'pred_rf' is not defined",
     "output_type": "error",
     "traceback": [
      "\u001b[0;31m---------------------------------------------------------------------------\u001b[0m",
      "\u001b[0;31mNameError\u001b[0m                                 Traceback (most recent call last)",
      "Cell \u001b[0;32mIn[54], line 5\u001b[0m\n\u001b[1;32m      3\u001b[0m rf_model\u001b[38;5;241m.\u001b[39mfit(X_train, y_train)\n\u001b[1;32m      4\u001b[0m y_test_pred_rf \u001b[38;5;241m=\u001b[39m rf_model\u001b[38;5;241m.\u001b[39mpredict(X_test)\n\u001b[0;32m----> 5\u001b[0m test_accuracy_rf \u001b[38;5;241m=\u001b[39m accuracy_score(y_test, y_test\u001b[38;5;241m-\u001b[39mpred_rf) \n\u001b[1;32m      6\u001b[0m \u001b[38;5;28mprint\u001b[39m(\u001b[38;5;124mf\u001b[39m\u001b[38;5;124m\"\u001b[39m\u001b[38;5;124mRandom Forest Testing Accuracy:\u001b[39m\u001b[38;5;132;01m{\u001b[39;00mtest_accuracy_rf\u001b[38;5;132;01m:\u001b[39;00m\u001b[38;5;124m.4f\u001b[39m\u001b[38;5;132;01m}\u001b[39;00m\u001b[38;5;124m\"\u001b[39m)\n",
      "\u001b[0;31mNameError\u001b[0m: name 'pred_rf' is not defined"
     ]
    }
   ],
   "source": [
    "# Fit a Random Forest Classifier\n",
    "rf_model = RandomForestClassifier(random_state=42)\n",
    "rf_model.fit(X_train, y_train)\n",
    "y_test_pred_rf = rf_model.predict(X_test)\n",
    "test_accuracy_rf = accuracy_score(y_test, y_test-pred_rf) \n",
    "print(f\"Random Forest Testing Accuracy:{test_accuracy_rf:.4f}\")"
   ]
  },
  {
   "cell_type": "code",
   "execution_count": null,
   "metadata": {},
   "outputs": [],
   "source": []
  }
 ],
 "metadata": {
  "colab": {
   "collapsed_sections": [
    "RYOHc68YujYE",
    "lc_kizYoJ2FS",
    "ZsJCxVwOJ2FU",
    "vQniuFLiJ2FZ",
    "Iid-Mm7SvKLH",
    "kO38zz_lvQlb",
    "dcVJD8thJ2Fo",
    "WU_fkGPkJ2Fo",
    "O6Li3YCgJ2Fq",
    "IvmLln6PJ2F0",
    "1i5o-mJxJ2F1",
    "8VR2DLkQJ2F5",
    "pQ6brzE7J2F_",
    "hFMuvW1uJ2Gb",
    "6jkwgRPuQDMl",
    "I-1mdGanQO3N",
    "05_n-tl3J2Gh",
    "GcrbeHLgJ2Gl",
    "_Q2od2oZJ2Gm",
    "5V1nnqq2J2Gs",
    "I6LhGTQoJ2Gy",
    "9VxTAromSFOq",
    "-W0I9QpctKVK",
    "5lZqtS1yJ2G5",
    "FIFI3J9hJ2G7"
   ],
   "name": "Project_Code.ipynb",
   "provenance": []
  },
  "kernelspec": {
   "display_name": "Python 3 (ipykernel)",
   "language": "python",
   "name": "python3"
  },
  "language_info": {
   "codemirror_mode": {
    "name": "ipython",
    "version": 3
   },
   "file_extension": ".py",
   "mimetype": "text/x-python",
   "name": "python",
   "nbconvert_exporter": "python",
   "pygments_lexer": "ipython3",
   "version": "3.11.5"
  }
 },
 "nbformat": 4,
 "nbformat_minor": 1
}
